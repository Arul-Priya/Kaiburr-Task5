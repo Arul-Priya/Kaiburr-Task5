{
 "cells": [
  {
   "cell_type": "code",
   "execution_count": 3,
   "id": "b79bd838-df86-4d34-82ff-af26e9108093",
   "metadata": {},
   "outputs": [],
   "source": [
    "import pandas as pd\n",
    "import re, string\n",
    "from sklearn.model_selection import train_test_split\n",
    "from sklearn.feature_extraction.text import CountVectorizer\n",
    "from sklearn.ensemble import RandomForestClassifier, GradientBoostingClassifier\n",
    "from sklearn.svm import LinearSVC\n",
    "from sklearn.metrics import accuracy_score, classification_report, confusion_matrix\n",
    "import seaborn as sns\n",
    "import matplotlib.pyplot as plt\n",
    "import random"
   ]
  },
  {
   "cell_type": "code",
   "execution_count": 4,
   "id": "de03bbf5-0ead-44aa-a11f-c07ea40b89c4",
   "metadata": {},
   "outputs": [],
   "source": [
    "df = pd.read_csv(\"output_random.csv\")\n",
    "df = df[['Consumer complaint narrative', 'Product']].dropna()\n",
    "mapping = {\n",
    "    \"Credit reporting, credit repair services, or other personal consumer reports\": 0,\n",
    "    \"Credit reporting or other personal consumer reports\": 0,\n",
    "    \"Debt collection\": 1,\n",
    "    \"Consumer Loan\": 2,\n",
    "    \"Mortgage\": 3\n",
    "}"
   ]
  },
  {
   "cell_type": "code",
   "execution_count": 5,
   "id": "dc8763b5-9c1b-4efc-b4c4-50007542823a",
   "metadata": {},
   "outputs": [],
   "source": [
    "df = df[df['Product'].isin(mapping.keys())]\n",
    "df['Category'] = df['Product'].map(mapping)"
   ]
  },
  {
   "cell_type": "code",
   "execution_count": 6,
   "id": "1951d917-dead-4f81-8224-78519c5a7ad1",
   "metadata": {},
   "outputs": [],
   "source": [
    "def clean_text(t):\n",
    "    t = t.lower()\n",
    "    t = re.sub(r\"\\d+\", \"\", t)\n",
    "    t = t.translate(str.maketrans(\"\", \"\", string.punctuation))\n",
    "    t = re.sub(r\"\\s+\", \" \", t)\n",
    "    return t.strip()\n",
    "\n",
    "df['CleanText'] = df['Consumer complaint narrative'].apply(clean_text)\n",
    "\n",
    "X = df['CleanText']\n",
    "y = df['Category']\n",
    "X_train, X_test, y_train, y_test = train_test_split(X, y, test_size=0.2, stratify=y, random_state=42)"
   ]
  },
  {
   "cell_type": "code",
   "execution_count": 7,
   "id": "0c16033e-7101-43b2-bb55-ffc6868aa5f5",
   "metadata": {},
   "outputs": [],
   "source": [
    "vectorizer = CountVectorizer(stop_words='english', max_features=4000)\n",
    "X_train_vec = vectorizer.fit_transform(X_train)\n",
    "X_test_vec = vectorizer.transform(X_test)"
   ]
  },
  {
   "cell_type": "code",
   "execution_count": 8,
   "id": "d33492b3-8428-4262-8c50-4c12be5ec018",
   "metadata": {},
   "outputs": [
    {
     "name": "stdout",
     "output_type": "stream",
     "text": [
      "RandomForest Accuracy: 0.93\n",
      "                  precision    recall  f1-score   support\n",
      "\n",
      "Credit Reporting       0.94      0.99      0.96      7719\n",
      " Debt Collection       0.87      0.66      0.75      1291\n",
      "   Consumer Loan       0.00      0.00      0.00        29\n",
      "        Mortgage       0.93      0.80      0.86       474\n",
      "\n",
      "        accuracy                           0.93      9513\n",
      "       macro avg       0.69      0.61      0.64      9513\n",
      "    weighted avg       0.93      0.93      0.92      9513\n",
      "\n"
     ]
    },
    {
     "name": "stderr",
     "output_type": "stream",
     "text": [
      "C:\\Users\\riyak\\AppData\\Local\\Programs\\Python\\Python313\\Lib\\site-packages\\sklearn\\metrics\\_classification.py:1731: UndefinedMetricWarning: Precision is ill-defined and being set to 0.0 in labels with no predicted samples. Use `zero_division` parameter to control this behavior.\n",
      "  _warn_prf(average, modifier, f\"{metric.capitalize()} is\", result.shape[0])\n",
      "C:\\Users\\riyak\\AppData\\Local\\Programs\\Python\\Python313\\Lib\\site-packages\\sklearn\\metrics\\_classification.py:1731: UndefinedMetricWarning: Precision is ill-defined and being set to 0.0 in labels with no predicted samples. Use `zero_division` parameter to control this behavior.\n",
      "  _warn_prf(average, modifier, f\"{metric.capitalize()} is\", result.shape[0])\n",
      "C:\\Users\\riyak\\AppData\\Local\\Programs\\Python\\Python313\\Lib\\site-packages\\sklearn\\metrics\\_classification.py:1731: UndefinedMetricWarning: Precision is ill-defined and being set to 0.0 in labels with no predicted samples. Use `zero_division` parameter to control this behavior.\n",
      "  _warn_prf(average, modifier, f\"{metric.capitalize()} is\", result.shape[0])\n",
      "C:\\Users\\riyak\\AppData\\Local\\Programs\\Python\\Python313\\Lib\\site-packages\\sklearn\\svm\\_base.py:1250: ConvergenceWarning: Liblinear failed to converge, increase the number of iterations.\n",
      "  warnings.warn(\n"
     ]
    },
    {
     "name": "stdout",
     "output_type": "stream",
     "text": [
      "SVM Accuracy: 0.9089\n",
      "                  precision    recall  f1-score   support\n",
      "\n",
      "Credit Reporting       0.94      0.96      0.95      7719\n",
      " Debt Collection       0.73      0.66      0.69      1291\n",
      "   Consumer Loan       0.24      0.14      0.17        29\n",
      "        Mortgage       0.89      0.80      0.84       474\n",
      "\n",
      "        accuracy                           0.91      9513\n",
      "       macro avg       0.70      0.64      0.66      9513\n",
      "    weighted avg       0.90      0.91      0.91      9513\n",
      "\n",
      "GradientBoosting Accuracy: 0.9216\n",
      "                  precision    recall  f1-score   support\n",
      "\n",
      "Credit Reporting       0.94      0.98      0.96      7719\n",
      " Debt Collection       0.83      0.65      0.73      1291\n",
      "   Consumer Loan       0.23      0.17      0.20        29\n",
      "        Mortgage       0.91      0.82      0.86       474\n",
      "\n",
      "        accuracy                           0.92      9513\n",
      "       macro avg       0.72      0.65      0.68      9513\n",
      "    weighted avg       0.92      0.92      0.92      9513\n",
      "\n"
     ]
    }
   ],
   "source": [
    "models = {\n",
    "    \"RandomForest\": RandomForestClassifier(n_estimators=250, random_state=42, n_jobs=-1),\n",
    "    \"SVM\": LinearSVC(max_iter=3000),\n",
    "    \"GradientBoosting\": GradientBoostingClassifier(n_estimators=150, random_state=42)\n",
    "}\n",
    "\n",
    "results = {}\n",
    "for name, model in models.items():\n",
    "    model.fit(X_train_vec, y_train)\n",
    "    preds = model.predict(X_test_vec)\n",
    "    acc = accuracy_score(y_test, preds)\n",
    "    results[name] = (acc, preds)\n",
    "    print(name, \"Accuracy:\", round(acc, 4))\n",
    "    print(classification_report(y_test, preds, target_names=[\"Credit Reporting\",\"Debt Collection\",\"Consumer Loan\",\"Mortgage\"]))"
   ]
  },
  {
   "cell_type": "code",
   "execution_count": 9,
   "id": "bea9eefe-dbfe-4016-85e2-72ba24c89e1e",
   "metadata": {},
   "outputs": [
    {
     "name": "stdout",
     "output_type": "stream",
     "text": [
      "Best model: RandomForest\n"
     ]
    }
   ],
   "source": [
    "best_model = max(results, key=lambda k: results[k][0])\n",
    "best_preds = results[best_model][1]\n",
    "print(\"Best model:\", best_model)"
   ]
  },
  {
   "cell_type": "code",
   "execution_count": 10,
   "id": "1bb0a526-8910-49d6-b84a-84003407d10d",
   "metadata": {},
   "outputs": [
    {
     "data": {
      "image/png": "[encoded data removed]",
      "text/plain": [
       "<Figure size 600x500 with 2 Axes>"
      ]
     },
     "metadata": {},
     "output_type": "display_data"
    }
   ],
   "source": [
    "cm = confusion_matrix(y_test, best_preds)\n",
    "plt.figure(figsize=(6,5))\n",
    "sns.heatmap(cm, annot=True, fmt=\"d\", cmap=\"Blues\", xticklabels=[\"Credit Reporting\",\"Debt Collection\",\"Consumer Loan\",\"Mortgage\"], yticklabels=[\"Credit Reporting\",\"Debt Collection\",\"Consumer Loan\",\"Mortgage\"])\n",
    "plt.show()"
   ]
  },
  {
   "cell_type": "code",
   "execution_count": 11,
   "id": "7473a80b-6dea-4510-986c-a8017c12be7e",
   "metadata": {},
   "outputs": [
    {
     "name": "stdout",
     "output_type": "stream",
     "text": [
      "Complaint: i have not supplied proof under the doctrine of estoppel by silence engelhardt v gravens mo sw i pressume that no proof  ...\n",
      "True: 0 Pred: 0 \n",
      "\n",
      "Complaint: dear to whom it may concern i recently pulled up my xxxx report and i noticed a derogatory remark on there under usc cc  ...\n",
      "True: 1 Pred: 0 \n",
      "\n",
      "Complaint: xxxx xxxx xxxx xxxx has charged off this debt to the irs i never received a c or proof of my securitization where this p ...\n",
      "True: 0 Pred: 0 \n",
      "\n",
      "Complaint: i am writing to have the following information removed from my credit file the items that i need deleted are going to be ...\n",
      "True: 0 Pred: 0 \n",
      "\n",
      "Complaint: i xxxx xxxx entered into a consumer credit transaction with nissan xxxx xxxx on xxxx a consumer credit transaction in wh ...\n",
      "True: 1 Pred: 1 \n",
      "\n",
      "Complaint: xxxxxxxx xxxx xxxx xxxx xxxx xxxx xxxx xxxx xxxx xxxx fl xxxx email xxxx phone xxxx xxxx xxxx transunion consumer soluti ...\n",
      "True: 0 Pred: 0 \n",
      "\n",
      "Complaint: i am a xxxx at same time so we are so busy and this companydebt collection calling looking for someone who never been a  ...\n",
      "True: 1 Pred: 1 \n",
      "\n",
      "Complaint: in accordance with the fair credit reporting act the list of accounts below has violated my federally protected consumer ...\n",
      "True: 0 Pred: 0 \n",
      "\n",
      "Complaint: my latest credit report shows credit collection that i do not recognize with the above company i did not authorize this  ...\n",
      "True: 1 Pred: 0 \n",
      "\n",
      "Complaint: xxxx has a fraudulent account on my transunion credit report this account sss open in my name from information that was  ...\n",
      "True: 0 Pred: 0 \n",
      "\n"
     ]
    }
   ],
   "source": [
    "sample_idx = random.sample(range(len(X_test)), 10)\n",
    "sample_texts = X_test.iloc[sample_idx]\n",
    "sample_true = y_test.iloc[sample_idx]\n",
    "sample_vec = vectorizer.transform(sample_texts)\n",
    "sample_preds = models[best_model].predict(sample_vec)\n",
    "\n",
    "for t, true, pred in zip(sample_texts, sample_true, sample_preds):\n",
    "    print(\"Complaint:\", t[:120], \"...\")\n",
    "    print(\"True:\", true, \"Pred:\", pred, \"\\n\")"
   ]
  },
  {
   "cell_type": "code",
   "execution_count": null,
   "id": "50092833-e04f-4d96-8ce4-361fcc5c1d16",
   "metadata": {},
   "outputs": [],
   "source": []
  }
 ],
 "metadata": {
  "kernelspec": {
   "display_name": "Python 3 (ipykernel)",
   "language": "python",
   "name": "python3"
  },
  "language_info": {
   "codemirror_mode": {
    "name": "ipython",
    "version": 3
   },
   "file_extension": ".py",
   "mimetype": "text/x-python",
   "name": "python",
   "nbconvert_exporter": "python",
   "pygments_lexer": "ipython3",
   "version": "3.13.3"
  }
 },
 "nbformat": 4,
 "nbformat_minor": 5
}
